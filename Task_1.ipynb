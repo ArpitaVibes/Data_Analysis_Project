{
 "cells": [
  {
   "cell_type": "code",
   "execution_count": 3,
   "id": "77298f36-a861-4fe9-add2-244606b99825",
   "metadata": {},
   "outputs": [],
   "source": [
    "# List Operations :-"
   ]
  },
  {
   "cell_type": "code",
   "execution_count": 4,
   "id": "f94f6be8-74f7-4be5-ac80-0ee8af246319",
   "metadata": {},
   "outputs": [
    {
     "name": "stdout",
     "output_type": "stream",
     "text": [
      "updated list [2, 5, 4, 6, 8, 12]\n"
     ]
    }
   ],
   "source": [
    "my_list = [2,3,5,4,7,8]\n",
    "#adding an elemnent\n",
    "my_list.append(12)\n",
    "#removing an element\n",
    "my_list.remove(3)\n",
    "#modifying the list\n",
    "my_list[3]=6\n",
    "print(\"updated list\",my_list)"
   ]
  },
  {
   "cell_type": "code",
   "execution_count": 5,
   "id": "7386a709-3479-4feb-8d01-4bb689c5f724",
   "metadata": {},
   "outputs": [],
   "source": [
    "# Dictionary Operations :-"
   ]
  },
  {
   "cell_type": "code",
   "execution_count": 8,
   "id": "9781e1d5-be52-4714-8887-e710939321fc",
   "metadata": {},
   "outputs": [
    {
     "name": "stdout",
     "output_type": "stream",
     "text": [
      "updated dictionary {'Name': 'Arun', 'age': 18, 'subject': 'English', 'profession': 'student'}\n"
     ]
    }
   ],
   "source": [
    "dict = {\"Name\":\"Arun\" , \"roll no.\":23 , \"age\":20 , \"subject\":\"English\"}\n",
    "#adding an element\n",
    "dict[\"profession\"]=\"student\"\n",
    "#removing an element\n",
    "del dict[\"roll no.\"]\n",
    "#modifying a value in the dictionary\n",
    "dict[\"age\"]=18\n",
    "print(\"updated dictionary\",dict)"
   ]
  },
  {
   "cell_type": "code",
   "execution_count": 9,
   "id": "be103c12-b41f-4715-ac76-41edecc02d78",
   "metadata": {},
   "outputs": [],
   "source": [
    "#Set Operations :-"
   ]
  },
  {
   "cell_type": "code",
   "execution_count": 9,
   "id": "1147090c-87a1-49ea-967a-efcf2b333da7",
   "metadata": {},
   "outputs": [
    {
     "name": "stdout",
     "output_type": "stream",
     "text": [
      "updated set {1, 2, 3, 4, 5, 7, 8}\n"
     ]
    }
   ],
   "source": [
    "my_set = {4,5,6,7}\n",
    "#adding an element\n",
    "my_set.add(1)\n",
    "#remove an element\n",
    "my_set.discard(6)\n",
    "#modifying an element in the set \n",
    "my_set.update([8,2,3])\n",
    "print(\"updated set\",my_set)"
   ]
  },
  {
   "cell_type": "code",
   "execution_count": null,
   "id": "a9c0b0fa-2210-4dc1-a98e-b36435a56c23",
   "metadata": {},
   "outputs": [],
   "source": []
  }
 ],
 "metadata": {
  "kernelspec": {
   "display_name": "Python 3 (ipykernel)",
   "language": "python",
   "name": "python3"
  },
  "language_info": {
   "codemirror_mode": {
    "name": "ipython",
    "version": 3
   },
   "file_extension": ".py",
   "mimetype": "text/x-python",
   "name": "python",
   "nbconvert_exporter": "python",
   "pygments_lexer": "ipython3",
   "version": "3.12.4"
  }
 },
 "nbformat": 4,
 "nbformat_minor": 5
}
